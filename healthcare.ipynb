{
 "cells": [
  {
   "cell_type": "code",
   "execution_count": null,
   "metadata": {},
   "outputs": [],
   "source": [
    "# 머신러닝 및 데이터 처리 관련 라이브러리\n",
    "import tensorflow as tf\n",
    "import tensorflow_hub as tfhub\n",
    "import tensorflow_addons as tfa\n",
    "import pandas as pd\n",
    "import numpy as pd\n",
    "from sklearn.preprocessing import RobustScaler\n",
    "from pandarallel import pandarallel ; pandarallel.initialize()\n",
    "from sklearn.model_selection import GroupKFold, StratifiedKFold"
   ]
  }
 ],
 "metadata": {
  "kernelspec": {
   "display_name": "base",
   "language": "python",
   "name": "python3"
  },
  "language_info": {
   "name": "python",
   "version": "3.9.13 (main, Aug 25 2022, 23:51:50) [MSC v.1916 64 bit (AMD64)]"
  },
  "orig_nbformat": 4,
  "vscode": {
   "interpreter": {
    "hash": "711b5a28f12c3cfa30d918ac06d7087ac0bb908f9b0523699e7a0f06d0086f64"
   }
  }
 },
 "nbformat": 4,
 "nbformat_minor": 2
}
